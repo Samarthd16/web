{
  "nbformat": 4,
  "nbformat_minor": 0,
  "metadata": {
    "colab": {
      "name": "Web-miningLab1.ipynb",
      "provenance": [],
      "collapsed_sections": []
    },
    "kernelspec": {
      "name": "python3",
      "display_name": "Python 3"
    },
    "language_info": {
      "name": "python"
    }
  },
  "cells": [
    {
      "cell_type": "code",
      "execution_count": null,
      "metadata": {
        "id": "W8n6RFSuJe99"
      },
      "outputs": [],
      "source": [
        "import requests\n",
        "from bs4 import BeautifulSoup\n",
        "import re"
      ]
    },
    {
      "cell_type": "code",
      "source": [
        "root_URL = \"http://www.vit.ac.in\"\n",
        "search_word = \"research\""
      ],
      "metadata": {
        "id": "TcDgHl2zM4u9"
      },
      "execution_count": null,
      "outputs": []
    },
    {
      "cell_type": "code",
      "source": [
        "# Use the requests library to retrieve the web page of the root URL\n",
        "\n",
        "response = requests.get(root_URL)\n",
        "print(\"Status of the response : \", response.status_code)"
      ],
      "metadata": {
        "colab": {
          "base_uri": "https://localhost:8080/"
        },
        "id": "Qo-dbl0yM7jc",
        "outputId": "4ee1eb49-65b9-4617-b8d2-7171d21e531a"
      },
      "execution_count": null,
      "outputs": [
        {
          "output_type": "stream",
          "name": "stdout",
          "text": [
            "Status of the response :  200\n"
          ]
        }
      ]
    },
    {
      "cell_type": "code",
      "source": [
        "# Use the Beautiful Soap library to parse the retrieved web page\n",
        "\n",
        "root_page = BeautifulSoup(response.content, 'html.parser')"
      ],
      "metadata": {
        "id": "Qaqux-LPM99h"
      },
      "execution_count": null,
      "outputs": []
    },
    {
      "cell_type": "code",
      "source": [
        "# Retrieve all the links to the sub-pages by retrieving all the `<a>` tags\n",
        "\n",
        "anchor_tags = root_page.find_all('a')\n",
        "\n",
        "result = []\n",
        "\n",
        "# Check if the word \"admission\" is present in each page, and if so then save its URL\n",
        "for anchor_tag in anchor_tags :\n",
        "    link = anchor_tag['href']\n",
        "    if re.search(search_word, link, re.IGNORECASE) :\n",
        "        result.append(link)"
      ],
      "metadata": {
        "id": "ZV5IgfTwNBSY"
      },
      "execution_count": null,
      "outputs": []
    },
    {
      "cell_type": "code",
      "source": [
        "print(\"The links in the root URL page which contains the word 'admissions' are :\")\n",
        "for url in result :\n",
        "    print(\"\\t\", url)"
      ],
      "metadata": {
        "colab": {
          "base_uri": "https://localhost:8080/"
        },
        "id": "TsGO6LKFNEOK",
        "outputId": "be275e0d-60cd-4fbf-fbc8-ebd384771d05"
      },
      "execution_count": null,
      "outputs": [
        {
          "output_type": "stream",
          "name": "stdout",
          "text": [
            "The links in the root URL page which contains the word 'admissions' are :\n",
            "\t https://vit.ac.in/admissions/research\n",
            "\t https://vit.ac.in/admissions/research/Integrated_Ph.D\n",
            "\t https://vit.ac.in/admissions/research/phd\n",
            "\t https://vit.ac.in/research\n",
            "\t https://vit.ac.in/research\n",
            "\t https://vit.ac.in/research/academic\n",
            "\t https://vit.ac.in/research/sponsored-research\n",
            "\t https://vit.ac.in/research/centers-list\n",
            "\t 3d-printing-play-major-role-mitigating-spread-covid-19-say-researchers-vit\n",
            "\t 3d-printing-play-major-role-mitigating-spread-covid-19-say-researchers-vit\n",
            "\t https://vit.ac.in/research\n"
          ]
        }
      ]
    },
    {
      "cell_type": "code",
      "source": [
        ""
      ],
      "metadata": {
        "id": "vJMbq5pINHRw"
      },
      "execution_count": null,
      "outputs": []
    },
    {
      "cell_type": "markdown",
      "source": [
        "<h2>**QUESTION 2**<h2>"
      ],
      "metadata": {
        "id": "BOPkcQyTOhMs"
      }
    },
    {
      "cell_type": "code",
      "source": [
        ""
      ],
      "metadata": {
        "id": "oM48EefaOsoB"
      },
      "execution_count": null,
      "outputs": []
    },
    {
      "cell_type": "code",
      "source": [
        "root_URL = \"http://www.vit.ac.in\"\n",
        "search_word = \"admissions\"\n",
        "search_word_1 = \"international\""
      ],
      "metadata": {
        "id": "SBjUxBI5O14H"
      },
      "execution_count": null,
      "outputs": []
    },
    {
      "cell_type": "code",
      "source": [
        "# Use the requests library to retrieve the web page of the root URL\n",
        "\n",
        "response = requests.get(root_URL)\n",
        "print(\"Status of the response : \", response.status_code)"
      ],
      "metadata": {
        "colab": {
          "base_uri": "https://localhost:8080/"
        },
        "id": "_ahPhq-pO2tM",
        "outputId": "00a0215c-89d3-4e6f-9ba1-9353d1cd6ef7"
      },
      "execution_count": null,
      "outputs": [
        {
          "output_type": "stream",
          "name": "stdout",
          "text": [
            "Status of the response :  200\n"
          ]
        }
      ]
    },
    {
      "cell_type": "code",
      "source": [
        "# Use the Beautiful Soap library to parse the retrieved web page\n",
        "\n",
        "root_page = BeautifulSoup(response.content, 'html.parser')"
      ],
      "metadata": {
        "id": "j3_QiqA7O5Mk"
      },
      "execution_count": null,
      "outputs": []
    },
    {
      "cell_type": "code",
      "source": [
        "# Retrieve all the links to the sub-pages by retrieving all the `<a>` tags\n",
        "\n",
        "anchor_tags = root_page.find_all('a')\n",
        "\n",
        "result = []\n",
        "\n",
        "# Check if the word \"admission\" is present in each page, and if so then save its URL\n",
        "for anchor_tag in anchor_tags :\n",
        "    link = anchor_tag['href']\n",
        "    if re.search(search_word, link, re.IGNORECASE) and re.search(search_word, link, re.IGNORECASE)  :\n",
        "        result.append(link)\n",
        "    "
      ],
      "metadata": {
        "id": "drk4jn1oPBKz"
      },
      "execution_count": null,
      "outputs": []
    },
    {
      "cell_type": "code",
      "source": [
        "print(\"The links in the root URL page which contains the word 'admissions' and 'international' are :\")\n",
        "for url in result :\n",
        "    print(\"\\t\", url)"
      ],
      "metadata": {
        "colab": {
          "base_uri": "https://localhost:8080/"
        },
        "id": "452tkz7jPFEN",
        "outputId": "f56c0f01-fc44-4211-91fb-1e58848cf7f2"
      },
      "execution_count": null,
      "outputs": [
        {
          "output_type": "stream",
          "name": "stdout",
          "text": [
            "The links in the root URL page which contains the word 'admissions' and 'international' are :\n",
            "\t https://vit.ac.in/admissions/overview\n",
            "\t https://vit.ac.in/admissions/overview\n",
            "\t https://vit.ac.in/admissions/programmes-offered\n",
            "\t https://vit.ac.in/admissions/research\n",
            "\t https://vit.ac.in/admissions/research/Integrated_Ph.D\n",
            "\t https://vit.ac.in/admissions/research/phd\n",
            "\t https://vit.ac.in/admissions/international\n",
            "\t https://vit.ac.in/admissions/international/overview\n",
            "\t https://admissions.vit.ac.in/payment/freshers\n",
            "\t https://admissions.vit.ac.in/pgapplication/\n",
            "\t https://vit.ac.in/admissions/overview\n"
          ]
        }
      ]
    },
    {
      "cell_type": "markdown",
      "source": [
        "<h2>QUESTION 3<h2>"
      ],
      "metadata": {
        "id": "Jr42yeoIQINq"
      }
    },
    {
      "cell_type": "code",
      "source": [
        "root_URL = \"http://www.vit.ac.in\"\n",
        "search_word = \"programme\"\n",
        "search_word_1 = \"programming\""
      ],
      "metadata": {
        "id": "KiA_CczPQOPj"
      },
      "execution_count": null,
      "outputs": []
    },
    {
      "cell_type": "code",
      "source": [
        "# Use the requests library to retrieve the web page of the root URL\n",
        "\n",
        "response = requests.get(root_URL)\n",
        "print(\"Status of the response : \", response.status_code)"
      ],
      "metadata": {
        "colab": {
          "base_uri": "https://localhost:8080/"
        },
        "id": "qnUCS7c_QXWF",
        "outputId": "0f603957-77cf-4698-b14f-6a9580b4a07a"
      },
      "execution_count": null,
      "outputs": [
        {
          "output_type": "stream",
          "name": "stdout",
          "text": [
            "Status of the response :  200\n"
          ]
        }
      ]
    },
    {
      "cell_type": "code",
      "source": [
        "# Use the Beautiful Soap library to parse the retrieved web page\n",
        "\n",
        "root_page = BeautifulSoup(response.content, 'html.parser')"
      ],
      "metadata": {
        "id": "rI5HscU0QZ39"
      },
      "execution_count": null,
      "outputs": []
    },
    {
      "cell_type": "code",
      "source": [
        "# Retrieve all the links to the sub-pages by retrieving all the `<a>` tags\n",
        "\n",
        "anchor_tags = root_page.find_all('a')\n",
        "\n",
        "result = []\n",
        "\n",
        "# Check if the word \"admission\" is present in each page, and if so then save its URL\n",
        "for anchor_tag in anchor_tags :\n",
        "    link = anchor_tag['href']\n",
        "    if re.search(search_word, link, re.IGNORECASE) and not re.search(search_word_1, link, re.IGNORECASE):\n",
        "        result.append(link)"
      ],
      "metadata": {
        "id": "1ujYnguMQc-R"
      },
      "execution_count": null,
      "outputs": []
    },
    {
      "cell_type": "code",
      "source": [
        "print(\"The links in the root URL page which contains the word 'programme' and not 'programming' are :\")\n",
        "for url in result :\n",
        "    print(\"\\t\", url)"
      ],
      "metadata": {
        "colab": {
          "base_uri": "https://localhost:8080/"
        },
        "id": "rJcu9s36Qfzo",
        "outputId": "344c9bec-2d8e-4026-875c-ecfbf7216f6b"
      },
      "execution_count": null,
      "outputs": [
        {
          "output_type": "stream",
          "name": "stdout",
          "text": [
            "The links in the root URL page which contains the word 'programme' and not 'programming' are :\n",
            "\t https://vit.ac.in/programmes-offered-1\n",
            "\t https://vit.ac.in/programmes-offered-2021-22\n",
            "\t https://vit.ac.in/programmes-offered-2020-21\n",
            "\t https://vit.ac.in/admissions/programmes-offered\n"
          ]
        }
      ]
    },
    {
      "cell_type": "markdown",
      "source": [
        "<h2>**QUESTION 4**<h2>"
      ],
      "metadata": {
        "id": "RNeTu909R4fJ"
      }
    },
    {
      "cell_type": "code",
      "source": [
        "%%writefile Web-miningLab1.py\n",
        "#!usr/bin/bash python\n",
        "\n",
        "root_URL = input(\"Root website: \")\n",
        "search_word = input(\"Word: \")\n",
        "n = int(input(\"Number of websites: \"))"
      ],
      "metadata": {
        "colab": {
          "base_uri": "https://localhost:8080/"
        },
        "id": "wVle2rhSR-Kt",
        "outputId": "bf424555-9f87-4e2c-aba7-f72e06f39208"
      },
      "execution_count": null,
      "outputs": [
        {
          "output_type": "stream",
          "name": "stdout",
          "text": [
            "Overwriting Web-miningLab1.py\n"
          ]
        }
      ]
    },
    {
      "cell_type": "code",
      "source": [
        "%run Web-miningLab1.py"
      ],
      "metadata": {
        "colab": {
          "base_uri": "https://localhost:8080/"
        },
        "id": "AVjRARkLXALg",
        "outputId": "5d16af54-c242-4566-a448-21d51c90d910"
      },
      "execution_count": null,
      "outputs": [
        {
          "name": "stdout",
          "output_type": "stream",
          "text": [
            "Root website: http://www.vit.ac.in\n",
            "Word: admission\n",
            "Number of websites: 20\n"
          ]
        }
      ]
    },
    {
      "cell_type": "code",
      "source": [
        "# Use the requests library to retrieve the web page of the root URL\n",
        "\n",
        "response = requests.get(root_URL)\n",
        "print(\"Status of the response : \", response.status_code)"
      ],
      "metadata": {
        "colab": {
          "base_uri": "https://localhost:8080/"
        },
        "id": "Ch-3yL2qX_AH",
        "outputId": "c9a43b42-c048-407d-fe61-074b9dc2454c"
      },
      "execution_count": null,
      "outputs": [
        {
          "output_type": "stream",
          "name": "stdout",
          "text": [
            "Status of the response :  200\n"
          ]
        }
      ]
    },
    {
      "cell_type": "code",
      "source": [
        "# Use the Beautiful Soap library to parse the retrieved web page\n",
        "\n",
        "root_page = BeautifulSoup(response.content, 'html.parser')"
      ],
      "metadata": {
        "id": "iTIcxo4YYB2G"
      },
      "execution_count": null,
      "outputs": []
    },
    {
      "cell_type": "code",
      "source": [
        "# Retrieve all the links to the sub-pages by retrieving all the `<a>` tags\n",
        "\n",
        "anchor_tags = root_page.find_all('a')\n",
        "\n",
        "result = []\n",
        "counter = n\n",
        "# Check if the word \"admission\" is present in each page, and if so then save its URL\n",
        "for anchor_tag in anchor_tags:\n",
        "  if counter !=1 :\n",
        "    counter = counter -1\n",
        "    link = anchor_tag['href']\n",
        "    print(\"\\t\", link)\n",
        "    if re.search(search_word, link, re.IGNORECASE) and result.count == 0 :\n",
        "        result.append(link)\n",
        "        break"
      ],
      "metadata": {
        "colab": {
          "base_uri": "https://localhost:8080/"
        },
        "id": "ovnJRgrbYHZs",
        "outputId": "3fea06a0-6a0d-411b-a295-5d93adb9c64e"
      },
      "execution_count": null,
      "outputs": [
        {
          "output_type": "stream",
          "name": "stdout",
          "text": [
            "\t #main-content\n",
            "\t https://viteee.vit.ac.in/\n",
            "\t http://chennai.vit.ac.in/\n",
            "\t https://vitap.ac.in/\n",
            "\t https://vitbhopal.ac.in/\n",
            "\t /\n",
            "\t #\n",
            "\t #\n",
            "\t #\n",
            "\t https://vit.ac.in\n",
            "\t https://vit.ac.in/about-vit\n",
            "\t https://vit.ac.in/about-vit\n",
            "\t https://vit.ac.in/about/vision-mission\n",
            "\t https://vit.ac.in/vit-milestones\n",
            "\t https://vit.ac.in/about/leadership\n",
            "\t https://vit.ac.in/governance\n",
            "\t https://vit.ac.in/about/administrative-offices\n",
            "\t https://vit.ac.in/about/infrastructure\n",
            "\t https://vit.ac.in/about/ranking-and-accreditation\n"
          ]
        }
      ]
    },
    {
      "cell_type": "code",
      "source": [
        "print(\"The links in the root URL page are :\")\n",
        "for url in result :\n",
        "    print(\"\\t\", url)"
      ],
      "metadata": {
        "colab": {
          "base_uri": "https://localhost:8080/"
        },
        "id": "FOfmjk-iYKSD",
        "outputId": "58256414-4859-4599-923c-1a26d62414f9"
      },
      "execution_count": null,
      "outputs": [
        {
          "output_type": "stream",
          "name": "stdout",
          "text": [
            "The links in the root URL page are :\n"
          ]
        }
      ]
    }
  ]
}