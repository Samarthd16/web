{
  "nbformat": 4,
  "nbformat_minor": 0,
  "metadata": {
    "colab": {
      "name": "Lab4.ipynb",
      "provenance": [],
      "collapsed_sections": []
    },
    "kernelspec": {
      "name": "python3",
      "display_name": "Python 3"
    },
    "language_info": {
      "name": "python"
    }
  },
  "cells": [
    {
      "cell_type": "code",
      "execution_count": null,
      "metadata": {
        "colab": {
          "base_uri": "https://localhost:8080/"
        },
        "id": "l7NZJdtl1bEH",
        "outputId": "54b6d3a3-ac08-41a7-8426-4f33ab49f567"
      },
      "outputs": [
        {
          "output_type": "stream",
          "name": "stdout",
          "text": [
            "[nltk_data] Downloading package stopwords to /root/nltk_data...\n",
            "[nltk_data]   Package stopwords is already up-to-date!\n",
            "sample_data/Documents/ID5.txt\n",
            "sample_data/Documents/ID1.txt\n",
            "sample_data/Documents/ID2.txt\n",
            "sample_data/Documents/ID4.txt\n",
            "sample_data/Documents/ID3.txt\n",
            "Enter your query:Database Retrieval Storage\n",
            "[]\n",
            "database\n",
            "retrieval\n",
            "storage\n",
            "[[1, 1, 0, 0, 0], [0, 1, 0, 1, 0], [1, 0, 1, 0, 0]]\n",
            "[[1, 1, 0, 0, 0], [0, 1, 0, 1, 0], [1, 0, 1, 0, 0]]\n",
            "['ID5.txt', 'ID1.txt']\n"
          ]
        }
      ],
      "source": [
        "import nltk\n",
        "from nltk.corpus import stopwords\n",
        "from nltk.stem import WordNetLemmatizer, PorterStemmer\n",
        "from nltk.tokenize import sent_tokenize , word_tokenize\n",
        "import glob\n",
        "import re\n",
        "import os\n",
        "import numpy as np\n",
        "import sys\n",
        "import nltk\n",
        "nltk.download('stopwords')\n",
        "Stopwords = set(stopwords.words('english'))\n",
        "all_words = []\n",
        "dict_global = {}\n",
        "file_folder = 'sample_data/Documents/*'\n",
        "idx = 1\n",
        "files_with_index = {}\n",
        "for file in glob.glob(file_folder):\n",
        "    print(file)\n",
        "    fname = file\n",
        "    file = open(file , \"r\")\n",
        "    text = file.read()\n",
        "    text = remove_special_characters(text)\n",
        "    text = re.sub(re.compile('\\d'),'',text)\n",
        "    sentences = sent_tokenize(text)\n",
        "    words = word_tokenize(text)\n",
        "    words = [word for word in words if len(words)>1]\n",
        "    words = [word.lower() for word in words]\n",
        "    words = [word for word in words if word not in Stopwords]\n",
        "    dict_global.update(finding_all_unique_words_and_freq(words))\n",
        "    files_with_index[idx] = os.path.basename(fname)\n",
        "    idx = idx + 1\n",
        "    \n",
        "unique_words_all = set(dict_global.keys())\n",
        "def finding_all_unique_words_and_freq(words):\n",
        "    words_unique = []\n",
        "    word_freq = {}\n",
        "    for word in words:\n",
        "        if word not in words_unique:\n",
        "            words_unique.append(word)\n",
        "    for word in words_unique:\n",
        "        word_freq[word] = words.count(word)\n",
        "    return word_freq\n",
        "def finding_freq_of_word_in_doc(word,words):\n",
        "    freq = words.count(word)\n",
        "        \n",
        "def remove_special_characters(text):\n",
        "    regex = re.compile('[^a-zA-Z0-9\\s]')\n",
        "    text_returned = re.sub(regex,'',text)\n",
        "    return text_returned\n",
        "class Node:\n",
        "    def __init__(self ,docId, freq = None):\n",
        "        self.freq = freq\n",
        "        self.doc = docId\n",
        "        self.nextval = None\n",
        "    \n",
        "class SlinkedList:\n",
        "    def __init__(self ,head = None):\n",
        "        self.head = head\n",
        "linked_list_data = {}\n",
        "for word in unique_words_all:\n",
        "    linked_list_data[word] = SlinkedList()\n",
        "    linked_list_data[word].head = Node(1,Node)\n",
        "word_freq_in_doc = {}\n",
        "idx = 1\n",
        "for file in glob.glob(file_folder):\n",
        "    file = open(file, \"r\")\n",
        "    text = file.read()\n",
        "    text = remove_special_characters(text)\n",
        "    text = re.sub(re.compile('\\d'),'',text)\n",
        "    sentences = sent_tokenize(text)\n",
        "    words = word_tokenize(text)\n",
        "    words = [word for word in words if len(words)>1]\n",
        "    words = [word.lower() for word in words]\n",
        "    words = [word for word in words if word not in Stopwords]\n",
        "    word_freq_in_doc = finding_all_unique_words_and_freq(words)\n",
        "    for word in word_freq_in_doc.keys():\n",
        "        linked_list = linked_list_data[word].head\n",
        "        while linked_list.nextval is not None:\n",
        "            linked_list = linked_list.nextval\n",
        "        linked_list.nextval = Node(idx ,word_freq_in_doc[word])\n",
        "    idx = idx + 1\n",
        "query = input('Enter your query:')\n",
        "query = word_tokenize(query)\n",
        "connecting_words = []\n",
        "cnt = 1\n",
        "different_words = []\n",
        "for word in query:\n",
        "    if word.lower() != \"and\" and word.lower() != \"or\" and word.lower() != \"not\":\n",
        "        different_words.append(word.lower())\n",
        "    else:\n",
        "        connecting_words.append(word.lower())\n",
        "print(connecting_words)\n",
        "total_files = len(files_with_index)\n",
        "zeroes_and_ones = []\n",
        "zeroes_and_ones_of_all_words = []\n",
        "for word in (different_words):\n",
        "    if word.lower() in unique_words_all:\n",
        "        zeroes_and_ones = [0] * total_files\n",
        "        linkedlist = linked_list_data[word].head\n",
        "        print(word)\n",
        "        while linkedlist.nextval is not None:\n",
        "            zeroes_and_ones[linkedlist.nextval.doc - 1] = 1\n",
        "            linkedlist = linkedlist.nextval\n",
        "        zeroes_and_ones_of_all_words.append(zeroes_and_ones)\n",
        "    else:\n",
        "        print(word,\" not found\")\n",
        "        sys.exit()\n",
        "print(zeroes_and_ones_of_all_words)\n",
        "\n",
        "for word in connecting_words:\n",
        "    word_list1 = zeroes_and_ones_of_all_words[0]\n",
        "    word_list2 = zeroes_and_ones_of_all_words[1]\n",
        "    if word == \"and\":\n",
        "        bitwise_op = [w1 & w2 for (w1,w2) in zip(word_list1,word_list2)]\n",
        "        zeroes_and_ones_of_all_words.remove(word_list1)\n",
        "        zeroes_and_ones_of_all_words.remove(word_list2)\n",
        "        zeroes_and_ones_of_all_words.insert(0, bitwise_op);\n",
        "    elif word == \"or\":\n",
        "        bitwise_op = [w1 | w2 for (w1,w2) in zip(word_list1,word_list2)]\n",
        "        zeroes_and_ones_of_all_words.remove(word_list1)\n",
        "        zeroes_and_ones_of_all_words.remove(word_list2)\n",
        "        zeroes_and_ones_of_all_words.insert(0, bitwise_op);\n",
        "    elif word == \"not\":\n",
        "        bitwise_op = [not w1 for w1 in word_list2]\n",
        "        bitwise_op = [int(b == True) for b in bitwise_op]\n",
        "        zeroes_and_ones_of_all_words.remove(word_list2)\n",
        "        zeroes_and_ones_of_all_words.remove(word_list1)\n",
        "        bitwise_op = [w1 & w2 for (w1,w2) in zip(word_list1,bitwise_op)]\n",
        "        zeroes_and_ones_of_all_words.insert(0, bitwise_op);\n",
        "        \n",
        "files = []    \n",
        "print(zeroes_and_ones_of_all_words)\n",
        "lis = zeroes_and_ones_of_all_words[0]\n",
        "cnt = 1\n",
        "for index in lis:\n",
        "    if index == 1:\n",
        "        files.append(files_with_index[cnt])\n",
        "    cnt = cnt+1\n",
        "    \n",
        "print(files)\n"
      ]
    },
    {
      "cell_type": "code",
      "source": [
        "import math\n",
        "import nltk\n",
        "nltk.download('punkt')\n",
        "from textblob import TextBlob as tb\n",
        "\n",
        "def tf(word, blob):\n",
        "    return blob.words.count(word) / len(blob.words)\n",
        "\n",
        "def n_containing(word, bloblist):\n",
        "    return sum(1 for blob in bloblist if word in blob.words)\n",
        "\n",
        "def idf(word, bloblist):\n",
        "    return math.log(len(bloblist) / (1 + n_containing(word, bloblist)))\n",
        "\n",
        "def tfidf(word, blob, bloblist):\n",
        "    return tf(word, blob) * idf(word, bloblist)\n",
        "\n",
        "document1 = tb(\"\"\"Information Retrieval Systems is used with database systems\"\"\")\n",
        "document2 = tb(\"\"\"Information is in Storage Storage\"\"\")\n",
        "document3 = tb(\"\"\"Digital Speech systems can be used in Synthesis and Systems \"\"\")\n",
        "document4 = tb(\"\"\"Speech Filtering, Speech Retrieval systems are applications of Information Retrieval \"\"\")\n",
        "document5 = tb(\"\"\"Database Management system is used for storage storage\"\"\")\n",
        "\n",
        "bloblist = [document1, document2, document3, document4, document5]\n",
        "for i, blob in enumerate(bloblist):\n",
        "    print(\"Top words in document {}\".format(i + 1))\n",
        "    scores = {word: tfidf(word, blob, bloblist) for word in blob.words}\n",
        "    sorted_words = sorted(scores.items(), key=lambda x: x[1], reverse=True)\n",
        "    for word, score in sorted_words[:3]:\n",
        "        print(\"\\tWord: {}, TF-IDF: {}\".format(word, round(score, 5)))\n",
        "  "
      ],
      "metadata": {
        "colab": {
          "base_uri": "https://localhost:8080/"
        },
        "id": "LgYMUXsjULso",
        "outputId": "acee3e99-59c2-46e3-dc2d-b3a368852ee5"
      },
      "execution_count": null,
      "outputs": [
        {
          "output_type": "stream",
          "name": "stdout",
          "text": [
            "[nltk_data] Downloading package punkt to /root/nltk_data...\n",
            "[nltk_data]   Package punkt is already up-to-date!\n",
            "Top words in document 1\n",
            "\tWord: Systems, TF-IDF: 0.12771\n",
            "\tWord: with, TF-IDF: 0.11454\n",
            "\tWord: database, TF-IDF: 0.11454\n",
            "Top words in document 2\n",
            "\tWord: Storage, TF-IDF: 0.36652\n",
            "\tWord: in, TF-IDF: 0.10217\n",
            "\tWord: Information, TF-IDF: 0.04463\n",
            "Top words in document 3\n",
            "\tWord: Systems, TF-IDF: 0.10217\n",
            "\tWord: Digital, TF-IDF: 0.09163\n",
            "\tWord: can, TF-IDF: 0.09163\n",
            "Top words in document 4\n",
            "\tWord: Speech, TF-IDF: 0.10217\n",
            "\tWord: Retrieval, TF-IDF: 0.10217\n",
            "\tWord: Filtering, TF-IDF: 0.09163\n",
            "Top words in document 5\n",
            "\tWord: storage, TF-IDF: 0.22907\n",
            "\tWord: Database, TF-IDF: 0.11454\n",
            "\tWord: Management, TF-IDF: 0.11454\n"
          ]
        }
      ]
    },
    {
      "cell_type": "code",
      "source": [
        "# Program to measure the similarity between\n",
        "# two sentences using cosine similarity.\n",
        "import nltk\n",
        "nltk.download('punkt')\n",
        "import nltk\n",
        "nltk.download('stopwords')\n",
        "\n",
        "from nltk.corpus import stopwords\n",
        "from nltk.tokenize import word_tokenize\n",
        "\n",
        "X =\"information Retrieval systems is used with database systems\"\n",
        "Y =\"Information is in Storage Storage\"\n",
        "\n",
        "# tokenization\n",
        "X_list = word_tokenize(X)\n",
        "Y_list = word_tokenize(Y)\n",
        "\n",
        "# sw contains the list of stopwords\n",
        "sw = stopwords.words('english')\n",
        "l1 =[];l2 =[]\n",
        "\n",
        "# remove stop words from the string\n",
        "X_set = {w for w in X_list if not w in sw}\n",
        "Y_set = {w for w in Y_list if not w in sw}\n",
        "\n",
        "# form a set containing keywords of both strings\n",
        "rvector = X_set.union(Y_set)\n",
        "for w in rvector:\n",
        "\tif w in X_set: l1.append(1) # create a vector\n",
        "\telse: l1.append(0)\n",
        "\tif w in Y_set: l2.append(1)\n",
        "\telse: l2.append(0)\n",
        "c = 0\n",
        "\n",
        "# cosine formula\n",
        "for i in range(len(rvector)):\n",
        "\t\tc+= l1[i]*l2[i]\n",
        "cosine = c / float((sum(l1)*sum(l2))**0.5)\n",
        "print(\"similarity: \", cosine)\n"
      ],
      "metadata": {
        "colab": {
          "base_uri": "https://localhost:8080/"
        },
        "id": "NSUIK7w6I9Qg",
        "outputId": "b565d973-aa03-4610-f4a4-f5411a4dd6d2"
      },
      "execution_count": null,
      "outputs": [
        {
          "output_type": "stream",
          "name": "stdout",
          "text": [
            "[nltk_data] Downloading package punkt to /root/nltk_data...\n",
            "[nltk_data]   Package punkt is already up-to-date!\n",
            "[nltk_data] Downloading package stopwords to /root/nltk_data...\n",
            "[nltk_data]   Package stopwords is already up-to-date!\n",
            "similarity:  0.0\n"
          ]
        }
      ]
    },
    {
      "cell_type": "code",
      "source": [
        "def dice_coefficient(a, b):\n",
        "    \"\"\"dice coefficient 2nt/(na + nb).\"\"\"\n",
        "    if not len(a) or not len(b): return 0.0\n",
        "    if len(a) == 1:  a=a+u'.'\n",
        "    if len(b) == 1:  b=b+u'.'\n",
        "    \n",
        "    a_bigram_list=[]\n",
        "    for i in range(len(a)-1):\n",
        "      a_bigram_list.append(a[i:i+2])\n",
        "    b_bigram_list=[]\n",
        "    for i in range(len(b)-1):\n",
        "      b_bigram_list.append(b[i:i+2])\n",
        "      \n",
        "    a_bigrams = set(a_bigram_list)\n",
        "    b_bigrams = set(b_bigram_list)\n",
        "    overlap = len(a_bigrams & b_bigrams)\n",
        "    dice_coeff = overlap * 2.0/(len(a_bigrams) + len(b_bigrams))\n",
        "    return dice_coeff\n",
        "\n",
        "string1 = \"Digital Speech systems can be used in Synthesis and Systems\"\n",
        "string2 = \"Speech Filtering, Speech Retrieval systems are applications of Information Retrieval\"\n",
        "result = dice_coefficient(string1,string2)\n",
        "print(result)"
      ],
      "metadata": {
        "colab": {
          "base_uri": "https://localhost:8080/"
        },
        "id": "XUnqUxRhJqGD",
        "outputId": "d697b1d8-7d3b-4cce-84bf-0d5ed3802e8d"
      },
      "execution_count": null,
      "outputs": [
        {
          "output_type": "stream",
          "name": "stdout",
          "text": [
            "0.41509433962264153\n"
          ]
        }
      ]
    },
    {
      "cell_type": "code",
      "source": [
        "X =\"information Retrieval systems is used with database systems\"\n",
        "Y =\"Information is in Storage Storage\"\n",
        "\n",
        "def get_jaccard_sim(str1, str2): \n",
        "    a = set(str1.split()) \n",
        "    b = set(str2.split())\n",
        "    c = a.intersection(b)\n",
        "    return float(len(c)) / (len(a) + len(b) - len(c))\n",
        "\n",
        "result = get_jaccard_sim(X,Y)\n",
        "print(result)"
      ],
      "metadata": {
        "colab": {
          "base_uri": "https://localhost:8080/"
        },
        "id": "8Xjq5krQKAEV",
        "outputId": "532fe48d-d396-4bc3-b761-e243b8955886"
      },
      "execution_count": null,
      "outputs": [
        {
          "output_type": "stream",
          "name": "stdout",
          "text": [
            "0.1\n"
          ]
        }
      ]
    }
  ]
}