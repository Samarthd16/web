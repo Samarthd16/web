{
 "cells": [
  {
   "cell_type": "code",
   "execution_count": 1,
   "metadata": {},
   "outputs": [
    {
     "name": "stdout",
     "output_type": "stream",
     "text": [
      "Requirement already satisfied: selenium in c:\\users\\admin\\anaconda3\\lib\\site-packages (4.1.0)\n",
      "Requirement already satisfied: urllib3[secure]~=1.26 in c:\\users\\admin\\anaconda3\\lib\\site-packages (from selenium) (1.26.8)\n",
      "Requirement already satisfied: trio~=0.17 in c:\\users\\admin\\anaconda3\\lib\\site-packages (from selenium) (0.19.0)\n",
      "Requirement already satisfied: trio-websocket~=0.9 in c:\\users\\admin\\anaconda3\\lib\\site-packages (from selenium) (0.9.2)\n",
      "Requirement already satisfied: idna>=2.0.0; extra == \"secure\" in c:\\users\\admin\\anaconda3\\lib\\site-packages (from urllib3[secure]~=1.26->selenium) (2.10)\n",
      "Requirement already satisfied: pyOpenSSL>=0.14; extra == \"secure\" in c:\\users\\admin\\anaconda3\\lib\\site-packages (from urllib3[secure]~=1.26->selenium) (19.1.0)\n",
      "Requirement already satisfied: cryptography>=1.3.4; extra == \"secure\" in c:\\users\\admin\\anaconda3\\lib\\site-packages (from urllib3[secure]~=1.26->selenium) (3.1.1)\n",
      "Requirement already satisfied: certifi; extra == \"secure\" in c:\\users\\admin\\anaconda3\\lib\\site-packages (from urllib3[secure]~=1.26->selenium) (2020.6.20)\n",
      "Requirement already satisfied: async-generator>=1.9 in c:\\users\\admin\\anaconda3\\lib\\site-packages (from trio~=0.17->selenium) (1.10)\n",
      "Requirement already satisfied: cffi>=1.14; os_name == \"nt\" and implementation_name != \"pypy\" in c:\\users\\admin\\anaconda3\\lib\\site-packages (from trio~=0.17->selenium) (1.14.3)\n",
      "Requirement already satisfied: outcome in c:\\users\\admin\\anaconda3\\lib\\site-packages (from trio~=0.17->selenium) (1.1.0)\n",
      "Requirement already satisfied: attrs>=19.2.0 in c:\\users\\admin\\anaconda3\\lib\\site-packages (from trio~=0.17->selenium) (20.3.0)\n",
      "Requirement already satisfied: sniffio in c:\\users\\admin\\anaconda3\\lib\\site-packages (from trio~=0.17->selenium) (1.2.0)\n",
      "Requirement already satisfied: sortedcontainers in c:\\users\\admin\\anaconda3\\lib\\site-packages (from trio~=0.17->selenium) (2.2.2)\n",
      "Requirement already satisfied: wsproto>=0.14 in c:\\users\\admin\\anaconda3\\lib\\site-packages (from trio-websocket~=0.9->selenium) (1.0.0)\n",
      "Requirement already satisfied: six>=1.5.2 in c:\\users\\admin\\anaconda3\\lib\\site-packages (from pyOpenSSL>=0.14; extra == \"secure\"->urllib3[secure]~=1.26->selenium) (1.15.0)\n",
      "Requirement already satisfied: pycparser in c:\\users\\admin\\anaconda3\\lib\\site-packages (from cffi>=1.14; os_name == \"nt\" and implementation_name != \"pypy\"->trio~=0.17->selenium) (2.20)\n",
      "Requirement already satisfied: h11<1,>=0.9.0 in c:\\users\\admin\\anaconda3\\lib\\site-packages (from wsproto>=0.14->trio-websocket~=0.9->selenium) (0.12.0)\n",
      "Note: you may need to restart the kernel to use updated packages.\n"
     ]
    }
   ],
   "source": [
    "pip install selenium"
   ]
  },
  {
   "cell_type": "code",
   "execution_count": 114,
   "metadata": {},
   "outputs": [],
   "source": [
    "from selenium import webdriver\n",
    "from selenium.webdriver.common.keys import Keys\n",
    "import pandas as pd"
   ]
  },
  {
   "cell_type": "code",
   "execution_count": 115,
   "metadata": {},
   "outputs": [
    {
     "name": "stderr",
     "output_type": "stream",
     "text": [
      "<ipython-input-115-8d44cfbb8017>:2: DeprecationWarning: executable_path has been deprecated, please pass in a Service object\n",
      "  driver = webdriver.Chrome(DRIVER_PATH)\n"
     ]
    }
   ],
   "source": [
    "\n",
    "\n",
    "DRIVER_PATH = 'C:/Users/admin/Downloads/chromedriver'\n",
    "driver = webdriver.Chrome(DRIVER_PATH)"
   ]
  },
  {
   "cell_type": "code",
   "execution_count": 116,
   "metadata": {},
   "outputs": [
    {
     "name": "stdout",
     "output_type": "stream",
     "text": [
      "VIT Chennai\n",
      "Vandalur – Kelambakkam Road\n",
      "Chennai – 600 127\n",
      "044 3993 1555\n",
      "Fax : 044 3993 2555\n",
      "admin.chennai@vit.ac.in\n",
      "Admissions Office\n",
      "Dr. T. Palani Rajan\n",
      "Assistant Director (Admissions)\n",
      "VIT Chennai Campus,\n",
      "Vandalur-Kelambakkam Road,\n",
      "Chennai-600127,\n",
      "Tamil Nadu, India.\n",
      "+91 44 3993 1003\n",
      "Fax : +91-44 3993 2555\n",
      "admin.chennai@vit.ac.in\n",
      "admissions.chennai@vit.ac.in\n",
      "Director – Placement & Training\n",
      "Dr. Arockia Selvakumar &\n",
      "Prof. V. Anantha Krishnan\n",
      "Assistant Director – Placements and Training\n",
      "VIT Chennai Campus, Chennai\n",
      "Vandalur – Kelambakkam road,\n",
      "Chennai-600127\n",
      " chennai.pat@vit.ac.in\n",
      "International Relations\n",
      "Dr. Syed Ibrahim &\n",
      "Dr. Nithya Venkatesan\n",
      "Assistant Director – International Relations\n",
      "VIT Chennai Campus,\n",
      "Vandalur-Kelambakkam Road,\n",
      "Chennai-600127,\n",
      "Tamil Nadu, India.\n",
      "+91-44-39931392\n",
      "  ir4@vit.ac.in\n",
      "  ir5@vit.ac.in\n"
     ]
    },
    {
     "name": "stderr",
     "output_type": "stream",
     "text": [
      "<ipython-input-116-c45d84b72f39>:2: DeprecationWarning: find_elements_by_* commands are deprecated. Please use find_elements() instead\n",
      "  chennai = driver.find_elements_by_xpath('/html/body/div[1]/div/div[2]/div/div/div/article/div[2]/div[1]')\n"
     ]
    }
   ],
   "source": [
    "driver.get('https://chennai.vit.ac.in/about/contactus/')\n",
    "chennai = driver.find_elements_by_xpath('/html/body/div[1]/div/div[2]/div/div/div/article/div[2]/div[1]')\n",
    "chennai_list = []\n",
    "for p in range(len(chennai)):\n",
    "    chennai_list.append(chennai[p].text)\n",
    "    print(chennai_list[p])"
   ]
  },
  {
   "cell_type": "code",
   "execution_count": 117,
   "metadata": {},
   "outputs": [
    {
     "name": "stdout",
     "output_type": "stream",
     "text": [
      "CONTACT\n",
      "admin.chennai@vit.ac.in\n",
      "+91 44 3993 1555\n",
      "Vellore Institute of Technology, Vandalur – Kelambakkam Road Chennai, Tamil Nadu – 600 127\n"
     ]
    },
    {
     "name": "stderr",
     "output_type": "stream",
     "text": [
      "<ipython-input-117-b7a1ea54d073>:3: DeprecationWarning: find_elements_by_* commands are deprecated. Please use find_elements() instead\n",
      "  chennai = driver.find_elements_by_xpath('/html/body/div[1]/div/footer/section/div/div/div/div[4]/div')\n"
     ]
    }
   ],
   "source": [
    "#contacts = driver.find_elements_by_xpath('/html/body/div[1]/div/div[2]/div/div/div/article/div[2]/div[1]')\n",
    "\n",
    "chennai = driver.find_elements_by_xpath('/html/body/div[1]/div/footer/section/div/div/div/div[4]/div')\n",
    "chennai_list = []\n",
    "for p in range(len(chennai)):\n",
    "    chennai_list.append(chennai[p].text)\n",
    "    print(chennai_list[p])\n",
    "    "
   ]
  },
  {
   "cell_type": "code",
   "execution_count": 118,
   "metadata": {},
   "outputs": [
    {
     "name": "stdout",
     "output_type": "stream",
     "text": [
      "VIT\n",
      "Vellore Campus\n",
      "Vellore - 632 014\n",
      "Tamilnadu, India\n",
      "Tel: 91-416-2243091 / 93\n",
      "Fax: 91-416-2243092\n",
      "91-416-2240411 VIT\n",
      "Chennai Campus\n",
      "Vandalur - Kelambakkam Road\n",
      "Chennai - 600 127\n",
      "Ph : 044 3993 1555\n",
      "Fax : 044 3993 2555\n",
      "admin.chennai@vit.ac.in\n",
      "Admissions Office\n",
      "Dr.G.Kalaichelvan\n",
      "Director - UG Admissions\n",
      "Vellore Institute of Technology\n",
      "Vellore - 632 014,\n",
      "Tamil Nadu, India.\n",
      "Telephone: 044-462-77555 \n",
      "Fax: +91-416-224 5544, 224 0411\n",
      "Email: ugadmission@vit.ac.in Admissions Office\n",
      "Dr. Ramasubramanian V\n",
      "Director - PG Admissions\n",
      "Vellore Institute of Technology\n",
      "Vellore - 632 014,\n",
      "Tamil Nadu, India.\n",
      "Phone: + 91-416-220 2188\n",
      "Fax: +91-416-224 5544, 224 9955\n",
      "Email: pgadmission@vit.ac.in\n",
      "Dr.V.Samuel Rajkumar\n",
      "Director - Career Development Centre (CDC)\n",
      "Vellore Institute of Technology\n",
      "Vellore - 632 014.\n",
      "Tamil Nadu.\n",
      "Tel: 0416 - 2202846\n",
      "Fax: 91-416-2243092, 91-416-224 0411\n",
      "placement@vit.ac.in\n",
      "International Relations Office\n",
      "Dr. C. Vijayakumar\n",
      "Director - International Relations\n",
      "Vellore Institute of Technology\n",
      "Vellore - 632 014.\n",
      "Tamil Nadu, India\n",
      "Tel: 91-416-224 3118\n",
      "Fax: 91-416-2243092\n",
      "director.ir@vit.ac.in\n",
      "vijay@vit.ac.in\n"
     ]
    },
    {
     "name": "stderr",
     "output_type": "stream",
     "text": [
      "<ipython-input-118-8d7e187169c2>:2: DeprecationWarning: find_elements_by_* commands are deprecated. Please use find_elements() instead\n",
      "  vellore = driver.find_elements_by_xpath('/html/body/div[1]/div[2]/div[2]/div[1]/div/div[2]/div/div/section/div/div/div[1]/div/div/div/table[1]/tbody')\n"
     ]
    }
   ],
   "source": [
    "driver.get('https://vit.ac.in/contactus') #ignore this cell\n",
    "vellore = driver.find_elements_by_xpath('/html/body/div[1]/div[2]/div[2]/div[1]/div/div[2]/div/div/section/div/div/div[1]/div/div/div/table[1]/tbody')\n",
    "vellore_list = []\n",
    "for p in range(len(vellore)):\n",
    "    vellore_list.append(vellore[p].text)\n",
    "    print(vellore_list[p])"
   ]
  },
  {
   "cell_type": "code",
   "execution_count": 119,
   "metadata": {},
   "outputs": [
    {
     "name": "stdout",
     "output_type": "stream",
     "text": [
      "For Admission\n",
      "Assistant Director (Admissions)\n",
      "Room No. SRB-G30\n",
      "VIT-AP University\n",
      "(Beside AP Secretariat)\n",
      "Near Vijayawada, 522 237\n",
      "Andhra Pradesh\n",
      " \n",
      "admission@vitap.ac.in\n",
      "0863 2370444\n",
      " 7901091283\n",
      "General Information\n",
      "The Registrar\n",
      "VIT-AP University\n",
      "(Beside AP Secretariat)\n",
      "Near Vijayawada, 522 237\n",
      "Andhra Pradesh\n",
      "   \n",
      "info@vitap.ac.in\n",
      "Admin. Office at Hyderabad\n",
      "VIT-AP University\n",
      "Admin. Office\n",
      "4th Floor\n",
      "Bansal Pride Building\n",
      "Near YSR Statue\n",
      "Madhapur\n",
      "HYDERABAD – 500 081\n",
      "Telangana State\n",
      "adminoffice@vitap.ac.in\n",
      "040-29559555\n",
      "7901311658\n"
     ]
    },
    {
     "name": "stderr",
     "output_type": "stream",
     "text": [
      "<ipython-input-119-b11047b816f1>:2: DeprecationWarning: find_elements_by_* commands are deprecated. Please use find_elements() instead\n",
      "  Andhra = driver.find_elements_by_xpath('/html/body/div/div/div/section[2]/div/div/div/div/div/div[1]/div/div[1]')\n"
     ]
    }
   ],
   "source": [
    "driver.get('https://vitap.ac.in/contact-us/') #ignore this cell\n",
    "Andhra = driver.find_elements_by_xpath('/html/body/div/div/div/section[2]/div/div/div/div/div/div[1]/div/div[1]')\n",
    "Andhra_list = []\n",
    "for p in range(len(Andhra)):\n",
    "    Andhra_list.append(Andhra[p].text)\n",
    "    print(Andhra_list[p])"
   ]
  },
  {
   "cell_type": "code",
   "execution_count": 120,
   "metadata": {},
   "outputs": [
    {
     "name": "stdout",
     "output_type": "stream",
     "text": [
      "Location\n",
      "VIT Bhopal University,\n",
      "Bhopal-Indore Highway\n",
      "Kothrikalan, Sehore\n",
      "Madhya Pradesh - 466114\n",
      "Phone\n",
      "+91 756 0254 500/501/502\n",
      "WhatsApp\n",
      "73586 13555, 73586 21555\n",
      "Email\n",
      "info@vitbhopal.ac.in\n",
      "Office Hours\n",
      "Mon - Fri: 8:30 AM - 5:00 PM\n",
      "VIT Bhopal Admission Contacts\n",
      "BBA - 7024181823\n",
      "B.Sc- 7828921560\n",
      "Int.M.Sc-7024181826\n",
      "Int.M.Tech-7024181830\n",
      "M.Tech- 7024181820\n",
      "MCA- 7024181821\n",
      "B.Tech- 7024240869\n",
      "Payment failure issues\n",
      "9384670522, 7024181840, 7024181841\n",
      "Send an email feescollection@vitbhopal.ac.in, sdc@vitbhopal.ac.in along with application no\n",
      "VITEEE Counselling 2021\n",
      "Contact Us\n",
      "Get in Touch\n"
     ]
    },
    {
     "name": "stderr",
     "output_type": "stream",
     "text": [
      "<ipython-input-120-f8ae9a4d0c67>:2: DeprecationWarning: find_elements_by_* commands are deprecated. Please use find_elements() instead\n",
      "  Bhopal = driver.find_elements_by_xpath('/html/body/div[3]/div/div/div/div')\n"
     ]
    }
   ],
   "source": [
    "driver.get('https://vitbhopal.ac.in/contacts/') \n",
    "Bhopal = driver.find_elements_by_xpath('/html/body/div[3]/div/div/div/div')\n",
    "Bhopal_list = []\n",
    "for p in range(len(Bhopal)):\n",
    "    Bhopal_list.append(Bhopal[p].text)\n",
    "    print(Bhopal_list[p])"
   ]
  },
  {
   "cell_type": "code",
   "execution_count": null,
   "metadata": {},
   "outputs": [],
   "source": []
  }
 ],
 "metadata": {
  "kernelspec": {
   "display_name": "Python 3",
   "language": "python",
   "name": "python3"
  },
  "language_info": {
   "codemirror_mode": {
    "name": "ipython",
    "version": 3
   },
   "file_extension": ".py",
   "mimetype": "text/x-python",
   "name": "python",
   "nbconvert_exporter": "python",
   "pygments_lexer": "ipython3",
   "version": "3.8.5"
  }
 },
 "nbformat": 4,
 "nbformat_minor": 4
}
